{
 "cells": [
  {
   "cell_type": "markdown",
   "metadata": {},
   "source": [
    "## Formulas\n",
    "Let $x \\in \\mathbb{R}$ the variable subject to scaling, \n",
    "$q_{u} \\in \\{q \\in \\mathbb{R} | 0 < q < 1\\}$ a given upper percentile,\n",
    "$v_{u} \\in \\mathbb{R}$ the corresponding upper percentile value,\n",
    "$q_{d} \\in \\{q \\in \\mathbb{R} | 0 < q < q_u < 1\\}$ a given lower percentile,\n",
    "$v_{d} \\in \\mathbb{R}$ the corresponding lower percentile value\n",
    "\n",
    "In a first step, $x$ is scaled by distance between the upper and lower percentile values $v_u - v_d$. \n",
    "\n",
    "$$\n",
    "y = q_d + q_u \\, \\left(\\frac{x - v_d}{v_u - v_d}\\right)\n",
    "$$\n",
    "\n",
    "Values between $x \\in [v_d, v_u]$ are scaled as $y \\in [q_d, q_u]$ what is similar to min-max scaling.\n",
    "\n",
    "However, values below the lower percentile value $x < v_d$ might have values below 0, \n",
    "and values above the upper percentile value $x > v_u$ might have values above 1. \n",
    "In both cases growth saturations formulas are used to enforce the interval boundaries 0 and 1\n",
    "\n",
    "$$\n",
    "z = \n",
    "\\begin{cases}\n",
    "    \\frac{d}{\\exp\\left(\\frac{d - y}{d}\\right)},  & \\text{if } y < q_d \\\\\n",
    "    y,              & \\text{else if } q_d \\leq y \\leq q_u \\\\\n",
    "    \\frac{u}{u + (1 - u) \\exp\\left(\\frac{u-x}{1 - u}\\right)}, & \\text{else if } y > q_d \n",
    "\\end{cases}\n",
    "$$\n",
    "\n",
    "\n"
   ]
  }
 ],
 "metadata": {
  "kernelspec": {
   "display_name": "Python 3",
   "language": "python",
   "name": "python3"
  },
  "language_info": {
   "codemirror_mode": {
    "name": "ipython",
    "version": 3
   },
   "file_extension": ".py",
   "mimetype": "text/x-python",
   "name": "python",
   "nbconvert_exporter": "python",
   "pygments_lexer": "ipython3",
   "version": "3.6.2"
  },
  "toc": {
   "base_numbering": 1,
   "nav_menu": {},
   "number_sections": true,
   "sideBar": true,
   "skip_h1_title": false,
   "title_cell": "Table of Contents",
   "title_sidebar": "Contents",
   "toc_cell": false,
   "toc_position": {},
   "toc_section_display": true,
   "toc_window_display": false
  },
  "varInspector": {
   "cols": {
    "lenName": 16,
    "lenType": 16,
    "lenVar": 40
   },
   "kernels_config": {
    "python": {
     "delete_cmd_postfix": "",
     "delete_cmd_prefix": "del ",
     "library": "var_list.py",
     "varRefreshCmd": "print(var_dic_list())"
    },
    "r": {
     "delete_cmd_postfix": ") ",
     "delete_cmd_prefix": "rm(",
     "library": "var_list.r",
     "varRefreshCmd": "cat(var_dic_list()) "
    }
   },
   "types_to_exclude": [
    "module",
    "function",
    "builtin_function_or_method",
    "instance",
    "_Feature"
   ],
   "window_display": false
  }
 },
 "nbformat": 4,
 "nbformat_minor": 2
}
